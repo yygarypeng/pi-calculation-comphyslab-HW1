{
 "cells": [
  {
   "cell_type": "markdown",
   "metadata": {},
   "source": [
    "## Computational Physics Lab \n",
    "### Homework 1.2\n",
    "Yuan-Yen Peng   \n",
    "Dept of Physics, NTHU, Taiwan   \n",
    "October 17, 2022   "
   ]
  },
  {
   "cell_type": "markdown",
   "metadata": {},
   "source": [
    "The Stefan-Boltzmann constant $\\sigma_{B}$ calculation"
   ]
  },
  {
   "cell_type": "code",
   "execution_count": 1,
   "metadata": {},
   "outputs": [],
   "source": [
    "%reset -f\n",
    "# clear previous variables\n",
    "\n",
    "import numpy as np\n",
    "import scipy.constants as const\n",
    "\n",
    "pi = const.pi\n",
    "h = const.h\n",
    "c = const.c\n",
    "k = const.k\n",
    "T = 6000\n",
    "# set constants"
   ]
  },
  {
   "cell_type": "code",
   "execution_count": 2,
   "metadata": {},
   "outputs": [
    {
     "name": "stdout",
     "output_type": "stream",
     "text": [
      "5.6703687488100114e-08\n",
      "15.6 ms ± 312 µs per loop (mean ± std. dev. of 7 runs, 100 loops each)\n"
     ]
    }
   ],
   "source": [
    "def sigma(N, upper):\n",
    "  '''\n",
    "  :param N: divided number.\n",
    "  :upper: upper bound for infinity, so set it as large as possible.\n",
    "  '''\n",
    "  tor_denu = 10E-10\n",
    "  # lower tolerance math error.\n",
    "  dNu = upper/N\n",
    "  Nu = np.linspace(0, upper, N)\n",
    "  B_nu = 2 * h * Nu**3\n",
    "  B_denu = c**2 * (np.exp(h * Nu / (k * T)) - 1) + tor_denu\n",
    "  # lower tolerance (+ 10E-10) to avoid 1/0 (math error).\n",
    "  sig = np.sum(B_nu * dNu / B_denu) * pi/T**4\n",
    "\n",
    "  return sig\n",
    "\n",
    "N = int(10E5)\n",
    "upper = int(10E15) \n",
    "# as large as we can, because it need to be inf.\n",
    "print(sigma(N = N, upper = upper))\n",
    "%timeit sigma(N, upper)"
   ]
  }
 ],
 "metadata": {
  "kernelspec": {
   "display_name": "Python 3.9.13 ('comphyslab')",
   "language": "python",
   "name": "python3"
  },
  "language_info": {
   "codemirror_mode": {
    "name": "ipython",
    "version": 3
   },
   "file_extension": ".py",
   "mimetype": "text/x-python",
   "name": "python",
   "nbconvert_exporter": "python",
   "pygments_lexer": "ipython3",
   "version": "3.9.13"
  },
  "orig_nbformat": 4,
  "vscode": {
   "interpreter": {
    "hash": "800729ac04c60c48be3a7ac96153a1f7738918f4ffda2d2139f6e7f0d7fb6d16"
   }
  }
 },
 "nbformat": 4,
 "nbformat_minor": 2
}
