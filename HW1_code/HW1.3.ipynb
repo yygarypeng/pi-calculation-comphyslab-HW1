{
 "cells": [
  {
   "cell_type": "markdown",
   "metadata": {},
   "source": [
    "## Computational Physics Lab \n",
    "### Homework 1.3\n",
    "Yuan-Yen Peng   \n",
    "Dept of Physics, NTHU, Taiwan   \n",
    "October 17, 2022   "
   ]
  },
  {
   "cell_type": "markdown",
   "metadata": {},
   "source": [
    "Angry Bird"
   ]
  },
  {
   "cell_type": "code",
   "execution_count": null,
   "metadata": {},
   "outputs": [],
   "source": [
    "import numpy as np\n",
    "import scipy as sp\n",
    "import scipy.constants as const\n",
    "import matplotlib.pyplot as plt"
   ]
  },
  {
   "cell_type": "code",
   "execution_count": null,
   "metadata": {},
   "outputs": [],
   "source": [
    "dt = 0.001\n",
    "N = 1000\n",
    "g = const.g"
   ]
  },
  {
   "cell_type": "code",
   "execution_count": null,
   "metadata": {},
   "outputs": [],
   "source": []
  },
  {
   "cell_type": "code",
   "execution_count": null,
   "metadata": {},
   "outputs": [],
   "source": [
    "# trajectories\n",
    "def tr(PosX, PosY, VelX, VelY):\n",
    "        X = np.array([PosX])\n",
    "        Y = np.array([PosY])\n",
    "        VX = np.array([VelX])\n",
    "        VY = np.array([VelY])\n",
    "        for i in range(0, N):\n",
    "                VY = np.append(VY, VY[i] + -g * dt)\n",
    "                X = np.append(X, X[i] + VX[0] * dt)\n",
    "                Y = np.append(Y, Y[i] + VY[i] * dt)\n",
    "                # print(np.size(X), np.size(Y))\n",
    "        return [X, Y]"
   ]
  },
  {
   "cell_type": "code",
   "execution_count": null,
   "metadata": {},
   "outputs": [],
   "source": [
    "%timeit tr(PosX = 0, PosY = 0, VelX = 10, VelY = 10)\n",
    "\n",
    "plt.plot(tr(PosX = 0, PosY = 0, VelX = 10, VelY = 10)[0], \n",
    "         tr(PosX = 0, PosY = 0, VelX = 10, VelY = 10)[1])"
   ]
  }
 ],
 "metadata": {
  "kernelspec": {
   "display_name": "Python 3.9.13 ('comphyslab')",
   "language": "python",
   "name": "python3"
  },
  "language_info": {
   "codemirror_mode": {
    "name": "ipython",
    "version": 3
   },
   "file_extension": ".py",
   "mimetype": "text/x-python",
   "name": "python",
   "nbconvert_exporter": "python",
   "pygments_lexer": "ipython3",
   "version": "3.9.13"
  },
  "orig_nbformat": 4,
  "vscode": {
   "interpreter": {
    "hash": "800729ac04c60c48be3a7ac96153a1f7738918f4ffda2d2139f6e7f0d7fb6d16"
   }
  }
 },
 "nbformat": 4,
 "nbformat_minor": 2
}
