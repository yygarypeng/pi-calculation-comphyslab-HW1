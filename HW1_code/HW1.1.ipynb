{
 "cells": [
  {
   "cell_type": "markdown",
   "metadata": {},
   "source": [
    "## Computational Physics Lab \n",
    "### Homework 1.1\n",
    "Yuan-Yen Peng   \n",
    "Dept of Physics, NTHU, Taiwan   \n",
    "October 17, 2022   "
   ]
  },
  {
   "cell_type": "markdown",
   "metadata": {},
   "source": [
    "π calculation"
   ]
  },
  {
   "cell_type": "code",
   "execution_count": 2,
   "metadata": {},
   "outputs": [],
   "source": [
    "import numpy as np\n",
    "\n",
    "N1 = int(10E4)\n",
    "N2 = int(10E5)\n",
    "N3 = int(10E6)\n",
    "# Set how many small rectangles. (divided number)"
   ]
  },
  {
   "cell_type": "code",
   "execution_count": 3,
   "metadata": {},
   "outputs": [
    {
     "name": "stdout",
     "output_type": "stream",
     "text": [
      "pi of N = 10000:  3.141612616401957\n",
      "50.3 ms ± 389 µs per loop (mean ± std. dev. of 7 runs, 10 loops each)\n",
      "pi of N = 100000:  3.1415946524138207\n",
      "480 ms ± 2.27 ms per loop (mean ± std. dev. of 7 runs, 1 loop each)\n",
      "pi of N = 1000000:  3.1415928535523587\n",
      "4.96 s ± 33.5 ms per loop (mean ± std. dev. of 7 runs, 1 loop each)\n"
     ]
    }
   ],
   "source": [
    "# method 1, use hand writing for-loop.\n",
    "def cal_meth1(N: int):\n",
    "  dx = 1/N\n",
    "  area = 0\n",
    "\n",
    "  for i in range (0, N + 1, 1):\n",
    "    h = np.sqrt(1 - (i/N)**2)\n",
    "    area += dx * h\n",
    "  Area = area * 4\n",
    "  \n",
    "  return Area\n",
    "\n",
    "print(\"pi of N = 10000: \", cal_meth1(N1))\n",
    "%timeit cal_meth1(N1)\n",
    "print(\"pi of N = 100000: \", cal_meth1(N2))\n",
    "%timeit cal_meth1(N2)\n",
    "print(\"pi of N = 1000000: \", cal_meth1(N3))\n",
    "%timeit cal_meth1(N3)"
   ]
  },
  {
   "cell_type": "code",
   "execution_count": 4,
   "metadata": {},
   "outputs": [
    {
     "name": "stdout",
     "output_type": "stream",
     "text": [
      "pi of N = 10000:  3.14158120047528\n",
      "48.8 ms ± 82.3 µs per loop (mean ± std. dev. of 7 runs, 10 loops each)\n",
      "pi of N = 100000:  3.1415915108212653\n",
      "512 ms ± 39.9 ms per loop (mean ± std. dev. of 7 runs, 1 loop each)\n",
      "pi of N = 1000000:  3.14159253939304\n",
      "4.86 s ± 59.3 ms per loop (mean ± std. dev. of 7 runs, 1 loop each)\n"
     ]
    }
   ],
   "source": [
    "# method 2, use default sum.\n",
    "def cal_meth2(N: int):\n",
    "  dx = 1/N\n",
    "  area = 0\n",
    "  \n",
    "  x = np.linspace(0, 1, N)\n",
    "  y = np.sqrt(1 - x**2)\n",
    "  area = sum(dx*y)\n",
    "  Area = area * 4\n",
    "  \n",
    "  return Area\n",
    "\n",
    "print(\"pi of N = 10000: \", cal_meth2(N1))\n",
    "%timeit cal_meth1(N1)\n",
    "print(\"pi of N = 100000: \", cal_meth2(N2))\n",
    "%timeit cal_meth1(N2)\n",
    "print(\"pi of N = 1000000: \", cal_meth2(N3))\n",
    "%timeit cal_meth1(N3)"
   ]
  },
  {
   "cell_type": "code",
   "execution_count": 5,
   "metadata": {},
   "outputs": [
    {
     "name": "stdout",
     "output_type": "stream",
     "text": [
      "pi of N = 10000:  3.1415812004752643\n",
      "49.2 ms ± 125 µs per loop (mean ± std. dev. of 7 runs, 10 loops each)\n",
      "pi of N = 100000:  3.141591510821158\n",
      "489 ms ± 1.04 ms per loop (mean ± std. dev. of 7 runs, 1 loop each)\n",
      "pi of N = 1000000:  3.1415925393933395\n",
      "4.85 s ± 61.4 ms per loop (mean ± std. dev. of 7 runs, 1 loop each)\n"
     ]
    }
   ],
   "source": [
    "# method 3, use numpy.sum.\n",
    "def cal_meth3(N: int):\n",
    "  dx = 1/N\n",
    "  area = 0\n",
    "  \n",
    "  x = np.linspace(0, 1, N)\n",
    "  y = np.sqrt(1 - x**2)\n",
    "  area = np.sum(dx*y)\n",
    "  Area = area * 4\n",
    "  \n",
    "  return Area\n",
    "\n",
    "print(\"pi of N = 10000: \", cal_meth3(N1))\n",
    "%timeit cal_meth1(N1)\n",
    "print(\"pi of N = 100000: \", cal_meth3(N2))\n",
    "%timeit cal_meth1(N2)\n",
    "print(\"pi of N = 1000000: \", cal_meth3(N3))\n",
    "%timeit cal_meth1(N3)"
   ]
  }
 ],
 "metadata": {
  "kernelspec": {
   "display_name": "Python 3.9.13 ('comphyslab')",
   "language": "python",
   "name": "python3"
  },
  "language_info": {
   "codemirror_mode": {
    "name": "ipython",
    "version": 3
   },
   "file_extension": ".py",
   "mimetype": "text/x-python",
   "name": "python",
   "nbconvert_exporter": "python",
   "pygments_lexer": "ipython3",
   "version": "3.9.13"
  },
  "orig_nbformat": 4,
  "vscode": {
   "interpreter": {
    "hash": "800729ac04c60c48be3a7ac96153a1f7738918f4ffda2d2139f6e7f0d7fb6d16"
   }
  }
 },
 "nbformat": 4,
 "nbformat_minor": 2
}
